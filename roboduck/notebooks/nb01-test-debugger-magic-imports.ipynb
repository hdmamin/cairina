{
 "cells": [
  {
   "cell_type": "markdown",
   "metadata": {},
   "source": [
    "# Summary\n",
    "\n",
    "Test if library version of debugger and/or magic work in notebook."
   ]
  },
  {
   "cell_type": "code",
   "execution_count": 1,
   "metadata": {
    "ExecuteTime": {
     "end_time": "2023-03-02T03:14:52.937791Z",
     "start_time": "2023-03-02T03:14:52.918905Z"
    }
   },
   "outputs": [
    {
     "name": "stdout",
     "output_type": "stream",
     "text": [
      "The autoreload extension is already loaded. To reload it, use:\n",
      "  %reload_ext autoreload\n"
     ]
    }
   ],
   "source": [
    "%load_ext autoreload\n",
    "%autoreload 2"
   ]
  },
  {
   "cell_type": "code",
   "execution_count": 2,
   "metadata": {
    "ExecuteTime": {
     "end_time": "2023-03-02T03:14:54.382207Z",
     "start_time": "2023-03-02T03:14:52.947589Z"
    }
   },
   "outputs": [],
   "source": [
    "import matplotlib.pyplot as plt\n",
    "import numpy as np\n",
    "import os\n",
    "import pandas as pd\n",
    "from pathlib import Path\n",
    "\n",
    "from htools import *"
   ]
  },
  {
   "cell_type": "code",
   "execution_count": 3,
   "metadata": {
    "ExecuteTime": {
     "end_time": "2023-03-02T03:14:54.448017Z",
     "start_time": "2023-03-02T03:14:54.384774Z"
    }
   },
   "outputs": [
    {
     "name": "stdout",
     "output_type": "stream",
     "text": [
      "Current directory: /Users/hmamin/cairina/roboduck\n"
     ]
    }
   ],
   "source": [
    "cd_root()"
   ]
  },
  {
   "cell_type": "code",
   "execution_count": 4,
   "metadata": {
    "ExecuteTime": {
     "end_time": "2023-03-02T03:14:54.506189Z",
     "start_time": "2023-03-02T03:14:54.458268Z"
    }
   },
   "outputs": [
    {
     "data": {
      "text/plain": [
       "<ipykernel.zmqshell.ZMQInteractiveShell at 0x7fdc107f8278>"
      ]
     },
     "execution_count": 4,
     "metadata": {},
     "output_type": "execute_result"
    }
   ],
   "source": [
    "get_ipython()"
   ]
  },
  {
   "cell_type": "code",
   "execution_count": 9,
   "metadata": {
    "ExecuteTime": {
     "end_time": "2023-02-22T03:51:36.932985Z",
     "start_time": "2023-02-22T03:51:36.857562Z"
    }
   },
   "outputs": [],
   "source": [
    "shell = get_ipython()\n",
    "shell??"
   ]
  },
  {
   "cell_type": "code",
   "execution_count": null,
   "metadata": {},
   "outputs": [],
   "source": [
    "get_ipython().debugger_cls"
   ]
  },
  {
   "cell_type": "code",
   "execution_count": 4,
   "metadata": {
    "ExecuteTime": {
     "end_time": "2023-02-22T03:40:54.161406Z",
     "start_time": "2023-02-22T03:40:54.126372Z"
    }
   },
   "outputs": [
    {
     "data": {
      "text/plain": [
       "IPython.core.debugger.Pdb"
      ]
     },
     "execution_count": 4,
     "metadata": {},
     "output_type": "execute_result"
    }
   ],
   "source": [
    "get_ipython().debugger_cls"
   ]
  },
  {
   "cell_type": "code",
   "execution_count": 10,
   "metadata": {
    "ExecuteTime": {
     "end_time": "2023-02-22T03:40:15.888903Z",
     "start_time": "2023-02-22T03:40:15.848601Z"
    }
   },
   "outputs": [],
   "source": [
    "get_ipython().InteractiveTB.debugger_cls = pd.DataFrame"
   ]
  },
  {
   "cell_type": "code",
   "execution_count": 5,
   "metadata": {
    "ExecuteTime": {
     "end_time": "2023-03-02T03:14:58.488823Z",
     "start_time": "2023-03-02T03:14:58.450175Z"
    }
   },
   "outputs": [],
   "source": [
    "def bubble_sort(nums):\n",
    "    for i in range(len(nums)):\n",
    "        for j in range(len(nums)):\n",
    "            if nums[j] > nums[j + 1]:\n",
    "                nums[j], nums[j + 1] = nums[j + 1], nums[j]\n",
    "    return nums"
   ]
  },
  {
   "cell_type": "code",
   "execution_count": 6,
   "metadata": {
    "ExecuteTime": {
     "end_time": "2023-03-02T03:14:59.424069Z",
     "start_time": "2023-03-02T03:14:59.393476Z"
    }
   },
   "outputs": [
    {
     "data": {
      "text/plain": [
       "[85, 24, 46, 8, 95, 36, 72, 44, 65, 47]"
      ]
     },
     "execution_count": 6,
     "metadata": {},
     "output_type": "execute_result"
    }
   ],
   "source": [
    "nums = np.random.randint(0, 100, 10).tolist()\n",
    "nums"
   ]
  },
  {
   "cell_type": "code",
   "execution_count": 7,
   "metadata": {
    "ExecuteTime": {
     "end_time": "2023-03-02T03:14:59.772620Z",
     "start_time": "2023-03-02T03:14:59.577824Z"
    }
   },
   "outputs": [
    {
     "ename": "IndexError",
     "evalue": "list index out of range",
     "output_type": "error",
     "traceback": [
      "\u001b[0;31m---------------------------------------------------------------------------\u001b[0m",
      "\u001b[0;31mIndexError\u001b[0m                                Traceback (most recent call last)",
      "\u001b[0;32m<ipython-input-7-9bb1c33833ca>\u001b[0m in \u001b[0;36m<module>\u001b[0;34m\u001b[0m\n\u001b[0;32m----> 1\u001b[0;31m \u001b[0mbubble_sort\u001b[0m\u001b[0;34m(\u001b[0m\u001b[0mnums\u001b[0m\u001b[0;34m)\u001b[0m\u001b[0;34m\u001b[0m\u001b[0;34m\u001b[0m\u001b[0m\n\u001b[0m",
      "\u001b[0;32m<ipython-input-5-e273d01fe34c>\u001b[0m in \u001b[0;36mbubble_sort\u001b[0;34m(nums)\u001b[0m\n\u001b[1;32m      2\u001b[0m     \u001b[0;32mfor\u001b[0m \u001b[0mi\u001b[0m \u001b[0;32min\u001b[0m \u001b[0mrange\u001b[0m\u001b[0;34m(\u001b[0m\u001b[0mlen\u001b[0m\u001b[0;34m(\u001b[0m\u001b[0mnums\u001b[0m\u001b[0;34m)\u001b[0m\u001b[0;34m)\u001b[0m\u001b[0;34m:\u001b[0m\u001b[0;34m\u001b[0m\u001b[0;34m\u001b[0m\u001b[0m\n\u001b[1;32m      3\u001b[0m         \u001b[0;32mfor\u001b[0m \u001b[0mj\u001b[0m \u001b[0;32min\u001b[0m \u001b[0mrange\u001b[0m\u001b[0;34m(\u001b[0m\u001b[0mlen\u001b[0m\u001b[0;34m(\u001b[0m\u001b[0mnums\u001b[0m\u001b[0;34m)\u001b[0m\u001b[0;34m)\u001b[0m\u001b[0;34m:\u001b[0m\u001b[0;34m\u001b[0m\u001b[0;34m\u001b[0m\u001b[0m\n\u001b[0;32m----> 4\u001b[0;31m             \u001b[0;32mif\u001b[0m \u001b[0mnums\u001b[0m\u001b[0;34m[\u001b[0m\u001b[0mj\u001b[0m\u001b[0;34m]\u001b[0m \u001b[0;34m>\u001b[0m \u001b[0mnums\u001b[0m\u001b[0;34m[\u001b[0m\u001b[0mj\u001b[0m \u001b[0;34m+\u001b[0m \u001b[0;36m1\u001b[0m\u001b[0;34m]\u001b[0m\u001b[0;34m:\u001b[0m\u001b[0;34m\u001b[0m\u001b[0;34m\u001b[0m\u001b[0m\n\u001b[0m\u001b[1;32m      5\u001b[0m                 \u001b[0mnums\u001b[0m\u001b[0;34m[\u001b[0m\u001b[0mj\u001b[0m\u001b[0;34m]\u001b[0m\u001b[0;34m,\u001b[0m \u001b[0mnums\u001b[0m\u001b[0;34m[\u001b[0m\u001b[0mj\u001b[0m \u001b[0;34m+\u001b[0m \u001b[0;36m1\u001b[0m\u001b[0;34m]\u001b[0m \u001b[0;34m=\u001b[0m \u001b[0mnums\u001b[0m\u001b[0;34m[\u001b[0m\u001b[0mj\u001b[0m \u001b[0;34m+\u001b[0m \u001b[0;36m1\u001b[0m\u001b[0;34m]\u001b[0m\u001b[0;34m,\u001b[0m \u001b[0mnums\u001b[0m\u001b[0;34m[\u001b[0m\u001b[0mj\u001b[0m\u001b[0;34m]\u001b[0m\u001b[0;34m\u001b[0m\u001b[0;34m\u001b[0m\u001b[0m\n\u001b[1;32m      6\u001b[0m     \u001b[0;32mreturn\u001b[0m \u001b[0mnums\u001b[0m\u001b[0;34m\u001b[0m\u001b[0;34m\u001b[0m\u001b[0m\n",
      "\u001b[0;31mIndexError\u001b[0m: list index out of range"
     ]
    }
   ],
   "source": [
    "bubble_sort(nums)"
   ]
  },
  {
   "cell_type": "code",
   "execution_count": 11,
   "metadata": {
    "ExecuteTime": {
     "end_time": "2023-03-02T03:15:23.629275Z",
     "start_time": "2023-03-02T03:15:22.375802Z"
    }
   },
   "outputs": [
    {
     "name": "stdout",
     "output_type": "stream",
     "text": [
      "Object loaded from /Users/hmamin/jabberwocky/data/misc/gooseai_sample_responses.pkl.\n"
     ]
    }
   ],
   "source": [
    "from roboduck import magic"
   ]
  },
  {
   "cell_type": "code",
   "execution_count": 12,
   "metadata": {
    "ExecuteTime": {
     "end_time": "2023-03-02T03:15:26.060115Z",
     "start_time": "2023-03-02T03:15:25.954502Z"
    }
   },
   "outputs": [
    {
     "ename": "IndexError",
     "evalue": "list index out of range",
     "output_type": "error",
     "traceback": [
      "\u001b[0;31m---------------------------------------------------------------------------\u001b[0m",
      "\u001b[0;31mIndexError\u001b[0m                                Traceback (most recent call last)",
      "\u001b[0;32m<ipython-input-12-9bb1c33833ca>\u001b[0m in \u001b[0;36m<module>\u001b[0;34m\u001b[0m\n\u001b[0;32m----> 1\u001b[0;31m \u001b[0mbubble_sort\u001b[0m\u001b[0;34m(\u001b[0m\u001b[0mnums\u001b[0m\u001b[0;34m)\u001b[0m\u001b[0;34m\u001b[0m\u001b[0;34m\u001b[0m\u001b[0m\n\u001b[0m",
      "\u001b[0;32m<ipython-input-5-e273d01fe34c>\u001b[0m in \u001b[0;36mbubble_sort\u001b[0;34m(nums)\u001b[0m\n\u001b[1;32m      2\u001b[0m     \u001b[0;32mfor\u001b[0m \u001b[0mi\u001b[0m \u001b[0;32min\u001b[0m \u001b[0mrange\u001b[0m\u001b[0;34m(\u001b[0m\u001b[0mlen\u001b[0m\u001b[0;34m(\u001b[0m\u001b[0mnums\u001b[0m\u001b[0;34m)\u001b[0m\u001b[0;34m)\u001b[0m\u001b[0;34m:\u001b[0m\u001b[0;34m\u001b[0m\u001b[0;34m\u001b[0m\u001b[0m\n\u001b[1;32m      3\u001b[0m         \u001b[0;32mfor\u001b[0m \u001b[0mj\u001b[0m \u001b[0;32min\u001b[0m \u001b[0mrange\u001b[0m\u001b[0;34m(\u001b[0m\u001b[0mlen\u001b[0m\u001b[0;34m(\u001b[0m\u001b[0mnums\u001b[0m\u001b[0;34m)\u001b[0m\u001b[0;34m)\u001b[0m\u001b[0;34m:\u001b[0m\u001b[0;34m\u001b[0m\u001b[0;34m\u001b[0m\u001b[0m\n\u001b[0;32m----> 4\u001b[0;31m             \u001b[0;32mif\u001b[0m \u001b[0mnums\u001b[0m\u001b[0;34m[\u001b[0m\u001b[0mj\u001b[0m\u001b[0;34m]\u001b[0m \u001b[0;34m>\u001b[0m \u001b[0mnums\u001b[0m\u001b[0;34m[\u001b[0m\u001b[0mj\u001b[0m \u001b[0;34m+\u001b[0m \u001b[0;36m1\u001b[0m\u001b[0;34m]\u001b[0m\u001b[0;34m:\u001b[0m\u001b[0;34m\u001b[0m\u001b[0;34m\u001b[0m\u001b[0m\n\u001b[0m\u001b[1;32m      5\u001b[0m                 \u001b[0mnums\u001b[0m\u001b[0;34m[\u001b[0m\u001b[0mj\u001b[0m\u001b[0;34m]\u001b[0m\u001b[0;34m,\u001b[0m \u001b[0mnums\u001b[0m\u001b[0;34m[\u001b[0m\u001b[0mj\u001b[0m \u001b[0;34m+\u001b[0m \u001b[0;36m1\u001b[0m\u001b[0;34m]\u001b[0m \u001b[0;34m=\u001b[0m \u001b[0mnums\u001b[0m\u001b[0;34m[\u001b[0m\u001b[0mj\u001b[0m \u001b[0;34m+\u001b[0m \u001b[0;36m1\u001b[0m\u001b[0;34m]\u001b[0m\u001b[0;34m,\u001b[0m \u001b[0mnums\u001b[0m\u001b[0;34m[\u001b[0m\u001b[0mj\u001b[0m\u001b[0;34m]\u001b[0m\u001b[0;34m\u001b[0m\u001b[0;34m\u001b[0m\u001b[0m\n\u001b[1;32m      6\u001b[0m     \u001b[0;32mreturn\u001b[0m \u001b[0mnums\u001b[0m\u001b[0;34m\u001b[0m\u001b[0;34m\u001b[0m\u001b[0m\n",
      "\u001b[0;31mIndexError\u001b[0m: list index out of range"
     ]
    }
   ],
   "source": [
    "bubble_sort(nums)"
   ]
  },
  {
   "cell_type": "code",
   "execution_count": 13,
   "metadata": {
    "ExecuteTime": {
     "end_time": "2023-03-02T03:15:30.048889Z",
     "start_time": "2023-03-02T03:15:27.360861Z"
    }
   },
   "outputs": [
    {
     "name": "stdout",
     "output_type": "stream",
     "text": [
      "[1] > \u001b[33;01m<ipython-input-5-e273d01fe34c>\u001b[00m(\u001b[36;01m4\u001b[00m)bubble_sort()\n",
      "-> if nums[j] > nums[j + 1]:\n",
      ">>> q\n"
     ]
    }
   ],
   "source": [
    "%duck -i"
   ]
  },
  {
   "cell_type": "markdown",
   "metadata": {},
   "source": [
    "Magic works."
   ]
  },
  {
   "cell_type": "code",
   "execution_count": 14,
   "metadata": {
    "ExecuteTime": {
     "end_time": "2023-03-02T03:15:33.263439Z",
     "start_time": "2023-03-02T03:15:33.211492Z"
    }
   },
   "outputs": [
    {
     "ename": "IndexError",
     "evalue": "list index out of range",
     "output_type": "error",
     "traceback": [
      "\u001b[0;31m---------------------------------------------------------------------------\u001b[0m",
      "\u001b[0;31mIndexError\u001b[0m                                Traceback (most recent call last)",
      "\u001b[0;32m<ipython-input-14-9bb1c33833ca>\u001b[0m in \u001b[0;36m<module>\u001b[0;34m\u001b[0m\n\u001b[0;32m----> 1\u001b[0;31m \u001b[0mbubble_sort\u001b[0m\u001b[0;34m(\u001b[0m\u001b[0mnums\u001b[0m\u001b[0;34m)\u001b[0m\u001b[0;34m\u001b[0m\u001b[0;34m\u001b[0m\u001b[0m\n\u001b[0m",
      "\u001b[0;32m<ipython-input-5-e273d01fe34c>\u001b[0m in \u001b[0;36mbubble_sort\u001b[0;34m(nums)\u001b[0m\n\u001b[1;32m      2\u001b[0m     \u001b[0;32mfor\u001b[0m \u001b[0mi\u001b[0m \u001b[0;32min\u001b[0m \u001b[0mrange\u001b[0m\u001b[0;34m(\u001b[0m\u001b[0mlen\u001b[0m\u001b[0;34m(\u001b[0m\u001b[0mnums\u001b[0m\u001b[0;34m)\u001b[0m\u001b[0;34m)\u001b[0m\u001b[0;34m:\u001b[0m\u001b[0;34m\u001b[0m\u001b[0;34m\u001b[0m\u001b[0m\n\u001b[1;32m      3\u001b[0m         \u001b[0;32mfor\u001b[0m \u001b[0mj\u001b[0m \u001b[0;32min\u001b[0m \u001b[0mrange\u001b[0m\u001b[0;34m(\u001b[0m\u001b[0mlen\u001b[0m\u001b[0;34m(\u001b[0m\u001b[0mnums\u001b[0m\u001b[0;34m)\u001b[0m\u001b[0;34m)\u001b[0m\u001b[0;34m:\u001b[0m\u001b[0;34m\u001b[0m\u001b[0;34m\u001b[0m\u001b[0m\n\u001b[0;32m----> 4\u001b[0;31m             \u001b[0;32mif\u001b[0m \u001b[0mnums\u001b[0m\u001b[0;34m[\u001b[0m\u001b[0mj\u001b[0m\u001b[0;34m]\u001b[0m \u001b[0;34m>\u001b[0m \u001b[0mnums\u001b[0m\u001b[0;34m[\u001b[0m\u001b[0mj\u001b[0m \u001b[0;34m+\u001b[0m \u001b[0;36m1\u001b[0m\u001b[0;34m]\u001b[0m\u001b[0;34m:\u001b[0m\u001b[0;34m\u001b[0m\u001b[0;34m\u001b[0m\u001b[0m\n\u001b[0m\u001b[1;32m      5\u001b[0m                 \u001b[0mnums\u001b[0m\u001b[0;34m[\u001b[0m\u001b[0mj\u001b[0m\u001b[0;34m]\u001b[0m\u001b[0;34m,\u001b[0m \u001b[0mnums\u001b[0m\u001b[0;34m[\u001b[0m\u001b[0mj\u001b[0m \u001b[0;34m+\u001b[0m \u001b[0;36m1\u001b[0m\u001b[0;34m]\u001b[0m \u001b[0;34m=\u001b[0m \u001b[0mnums\u001b[0m\u001b[0;34m[\u001b[0m\u001b[0mj\u001b[0m \u001b[0;34m+\u001b[0m \u001b[0;36m1\u001b[0m\u001b[0;34m]\u001b[0m\u001b[0;34m,\u001b[0m \u001b[0mnums\u001b[0m\u001b[0;34m[\u001b[0m\u001b[0mj\u001b[0m\u001b[0;34m]\u001b[0m\u001b[0;34m\u001b[0m\u001b[0;34m\u001b[0m\u001b[0m\n\u001b[1;32m      6\u001b[0m     \u001b[0;32mreturn\u001b[0m \u001b[0mnums\u001b[0m\u001b[0;34m\u001b[0m\u001b[0;34m\u001b[0m\u001b[0m\n",
      "\u001b[0;31mIndexError\u001b[0m: list index out of range"
     ]
    }
   ],
   "source": [
    "bubble_sort(nums)"
   ]
  },
  {
   "cell_type": "code",
   "execution_count": 15,
   "metadata": {
    "ExecuteTime": {
     "end_time": "2023-03-02T03:15:52.093506Z",
     "start_time": "2023-03-02T03:15:34.106402Z"
    },
    "scrolled": true
   },
   "outputs": [
    {
     "name": "stderr",
     "output_type": "stream",
     "text": [
      "/Users/hmamin/pythonhm/htools/htools/meta.py:455: UserWarning: Registering function <function excepthook at 0x7fdc17c2c510> as attribute \"excepthook\" on object <module 'sys' (built-in)>.\n",
      "  warnings.warn(f'Registering function {func} as attribute \"{attr}\" on '\n"
     ]
    },
    {
     "name": "stdout",
     "output_type": "stream",
     "text": [
      "Traceback (most recent call last):\n",
      "  File \"/Users/hmamin/anaconda3/lib/python3.7/site-packages/IPython/core/interactiveshell.py\", line 3441, in run_code\n",
      "    exec(code_obj, self.user_global_ns, self.user_ns)\n",
      "  File \"<ipython-input-14-9bb1c33833ca>\", line 1, in <module>\n",
      "    bubble_sort(nums)\n",
      "  File \"<ipython-input-5-e273d01fe34c>\", line 4, in bubble_sort\n",
      "    if nums[j] > nums[j + 1]:\n",
      "IndexError: list index out of range\n",
      "\n",
      "[1] > \u001b[33;01m<ipython-input-5-e273d01fe34c>\u001b[00m(\u001b[36;01m4\u001b[00m)bubble_sort()\n",
      "-> if nums[j] > nums[j + 1]:\n",
      "   1 frame hidden (try 'help hidden_frames')\n",
      "\u001b[32m[Duck] \u001b[0m\u001b[32m\n",
      "\u001b[0m\u001b[32mT\u001b[0m\u001b[32mh\u001b[0m\u001b[32me\u001b[0m\u001b[32m \u001b[0m\u001b[32mp\u001b[0m\u001b[32mr\u001b[0m\u001b[32mo\u001b[0m\u001b[32mb\u001b[0m\u001b[32ml\u001b[0m\u001b[32me\u001b[0m\u001b[32mm\u001b[0m\u001b[32m \u001b[0m\u001b[32mi\u001b[0m\u001b[32ms\u001b[0m\u001b[32m \u001b[0m\u001b[32mt\u001b[0m\u001b[32mh\u001b[0m\u001b[32ma\u001b[0m\u001b[32mt\u001b[0m\u001b[32m \u001b[0m\u001b[32mt\u001b[0m\u001b[32mh\u001b[0m\u001b[32me\u001b[0m\u001b[32m \u001b[0m\u001b[32ms\u001b[0m\u001b[32me\u001b[0m\u001b[32mc\u001b[0m\u001b[32mo\u001b[0m\u001b[32mn\u001b[0m\u001b[32md\u001b[0m\u001b[32m \u001b[0m\u001b[32mf\u001b[0m\u001b[32mo\u001b[0m\u001b[32mr\u001b[0m\u001b[32m \u001b[0m\u001b[32ml\u001b[0m\u001b[32mo\u001b[0m\u001b[32mo\u001b[0m\u001b[32mp\u001b[0m\u001b[32m \u001b[0m\u001b[32mi\u001b[0m\u001b[32ms\u001b[0m\u001b[32m \u001b[0m\u001b[32mi\u001b[0m\u001b[32mt\u001b[0m\u001b[32me\u001b[0m\u001b[32mr\u001b[0m\u001b[32ma\u001b[0m\u001b[32mt\u001b[0m\u001b[32mi\u001b[0m\u001b[32mn\u001b[0m\u001b[32mg\u001b[0m\u001b[32m \u001b[0m\u001b[32mo\u001b[0m\u001b[32mv\u001b[0m\u001b[32me\u001b[0m\u001b[32mr\u001b[0m\u001b[32m \u001b[0m\u001b[32mt\u001b[0m\u001b[32mh\u001b[0m\u001b[32me\u001b[0m\u001b[32m \u001b[0m\u001b[32me\u001b[0m\u001b[32mn\u001b[0m\u001b[32mt\u001b[0m\u001b[32mi\u001b[0m\u001b[32mr\u001b[0m\u001b[32me\u001b[0m\u001b[32m \u001b[0m\u001b[32ml\u001b[0m\u001b[32mi\u001b[0m\u001b[32ms\u001b[0m\u001b[32mt\u001b[0m\u001b[32m,\u001b[0m\u001b[32m \u001b[0m\u001b[32mb\u001b[0m\u001b[32mu\u001b[0m\u001b[32mt\u001b[0m\u001b[32m \u001b[0m\u001b[32mt\u001b[0m\u001b[32mh\u001b[0m\u001b[32me\u001b[0m\u001b[32m \u001b[0m\u001b[32mi\u001b[0m\u001b[32mf\u001b[0m\u001b[32m \u001b[0m\u001b[32ms\u001b[0m\u001b[32mt\u001b[0m\u001b[32ma\u001b[0m\u001b[32mt\u001b[0m\u001b[32me\u001b[0m\u001b[32mm\u001b[0m\u001b[32me\u001b[0m\u001b[32mn\u001b[0m\u001b[32mt\u001b[0m\u001b[32m \u001b[0m\u001b[32mi\u001b[0m\u001b[32ms\u001b[0m\u001b[32m \u001b[0m\u001b[32mt\u001b[0m\u001b[32mr\u001b[0m\u001b[32my\u001b[0m\u001b[32mi\u001b[0m\u001b[32mn\u001b[0m\u001b[32mg\u001b[0m\u001b[32m \u001b[0m\u001b[32mt\u001b[0m\u001b[32mo\u001b[0m\u001b[32m \u001b[0m\u001b[32mc\u001b[0m\u001b[32mo\u001b[0m\u001b[32mm\u001b[0m\u001b[32mp\u001b[0m\u001b[32ma\u001b[0m\u001b[32mr\u001b[0m\u001b[32me\u001b[0m\u001b[32m \u001b[0m\u001b[32mt\u001b[0m\u001b[32mh\u001b[0m\u001b[32me\u001b[0m\u001b[32m \u001b[0m\u001b[32mc\u001b[0m\u001b[32mu\u001b[0m\u001b[32mr\u001b[0m\u001b[32mr\u001b[0m\u001b[32me\u001b[0m\u001b[32mn\u001b[0m\u001b[32mt\u001b[0m\u001b[32m \u001b[0m\u001b[32me\u001b[0m\u001b[32ml\u001b[0m\u001b[32me\u001b[0m\u001b[32mm\u001b[0m\u001b[32me\u001b[0m\u001b[32mn\u001b[0m\u001b[32mt\u001b[0m\u001b[32m \u001b[0m\u001b[32mw\u001b[0m\u001b[32mi\u001b[0m\u001b[32mt\u001b[0m\u001b[32mh\u001b[0m\u001b[32m \u001b[0m\u001b[32mt\u001b[0m\u001b[32mh\u001b[0m\u001b[32me\u001b[0m\u001b[32m \u001b[0m\u001b[32mn\u001b[0m\u001b[32me\u001b[0m\u001b[32mx\u001b[0m\u001b[32mt\u001b[0m\u001b[32m \u001b[0m\u001b[32me\u001b[0m\u001b[32ml\u001b[0m\u001b[32me\u001b[0m\u001b[32mm\u001b[0m\u001b[32me\u001b[0m\u001b[32mn\u001b[0m\u001b[32mt\u001b[0m\u001b[32m.\u001b[0m\u001b[32m \u001b[0m\u001b[32mT\u001b[0m\u001b[32mh\u001b[0m\u001b[32mi\u001b[0m\u001b[32ms\u001b[0m\u001b[32m \u001b[0m\u001b[32mw\u001b[0m\u001b[32mi\u001b[0m\u001b[32ml\u001b[0m\u001b[32ml\u001b[0m\u001b[32m \u001b[0m\u001b[32mc\u001b[0m\u001b[32ma\u001b[0m\u001b[32mu\u001b[0m\u001b[32ms\u001b[0m\u001b[32me\u001b[0m\u001b[32m \u001b[0m\u001b[32ma\u001b[0m\u001b[32mn\u001b[0m\u001b[32m \u001b[0m\u001b[32me\u001b[0m\u001b[32mr\u001b[0m\u001b[32mr\u001b[0m\u001b[32mo\u001b[0m\u001b[32mr\u001b[0m\u001b[32m \u001b[0m\u001b[32mb\u001b[0m\u001b[32me\u001b[0m\u001b[32mc\u001b[0m\u001b[32ma\u001b[0m\u001b[32mu\u001b[0m\u001b[32ms\u001b[0m\u001b[32me\u001b[0m\u001b[32m \u001b[0m\u001b[32mt\u001b[0m\u001b[32mh\u001b[0m\u001b[32me\u001b[0m\u001b[32mr\u001b[0m\u001b[32me\u001b[0m\u001b[32m \u001b[0m\u001b[32mi\u001b[0m\u001b[32ms\u001b[0m\u001b[32m \u001b[0m\u001b[32mn\u001b[0m\u001b[32mo\u001b[0m\u001b[32m \u001b[0m\u001b[32mn\u001b[0m\u001b[32me\u001b[0m\u001b[32mx\u001b[0m\u001b[32mt\u001b[0m\u001b[32m \u001b[0m\u001b[32me\u001b[0m\u001b[32ml\u001b[0m\u001b[32me\u001b[0m\u001b[32mm\u001b[0m\u001b[32me\u001b[0m\u001b[32mn\u001b[0m\u001b[32mt\u001b[0m\u001b[32m \u001b[0m\u001b[32mf\u001b[0m\u001b[32mo\u001b[0m\u001b[32mr\u001b[0m\u001b[32m \u001b[0m\u001b[32mt\u001b[0m\u001b[32mh\u001b[0m\u001b[32me\u001b[0m\u001b[32m \u001b[0m\u001b[32ml\u001b[0m\u001b[32ma\u001b[0m\u001b[32ms\u001b[0m\u001b[32mt\u001b[0m\u001b[32m \u001b[0m\u001b[32me\u001b[0m\u001b[32ml\u001b[0m\u001b[32me\u001b[0m\u001b[32mm\u001b[0m\u001b[32me\u001b[0m\u001b[32mn\u001b[0m\u001b[32mt\u001b[0m\u001b[32m \u001b[0m\u001b[32mi\u001b[0m\u001b[32mn\u001b[0m\u001b[32m \u001b[0m\u001b[32mt\u001b[0m\u001b[32mh\u001b[0m\u001b[32me\u001b[0m\u001b[32m \u001b[0m\u001b[32ml\u001b[0m\u001b[32mi\u001b[0m\u001b[32ms\u001b[0m\u001b[32mt\u001b[0m\u001b[32m.\u001b[0m\u001b[32m\n",
      "\u001b[0m\u001b[32m\n",
      "\u001b[0m\u001b[32m\n",
      "\u001b[0m\u001b[32md\u001b[0m\u001b[32me\u001b[0m\u001b[32mf\u001b[0m\u001b[32m \u001b[0m\u001b[32mb\u001b[0m\u001b[32mu\u001b[0m\u001b[32mb\u001b[0m\u001b[32mb\u001b[0m\u001b[32ml\u001b[0m\u001b[32me\u001b[0m\u001b[32m_\u001b[0m\u001b[32ms\u001b[0m\u001b[32mo\u001b[0m\u001b[32mr\u001b[0m\u001b[32mt\u001b[0m\u001b[32m(\u001b[0m\u001b[32mn\u001b[0m\u001b[32mu\u001b[0m\u001b[32mm\u001b[0m\u001b[32ms\u001b[0m\u001b[32m)\u001b[0m\u001b[32m:\u001b[0m\u001b[32m\n",
      "\u001b[0m\u001b[32m \u001b[0m\u001b[32m \u001b[0m\u001b[32m \u001b[0m\u001b[32m \u001b[0m\u001b[32mf\u001b[0m\u001b[32mo\u001b[0m\u001b[32mr\u001b[0m\u001b[32m \u001b[0m\u001b[32mi\u001b[0m\u001b[32m \u001b[0m\u001b[32mi\u001b[0m\u001b[32mn\u001b[0m\u001b[32m \u001b[0m\u001b[32mr\u001b[0m\u001b[32ma\u001b[0m\u001b[32mn\u001b[0m\u001b[32mg\u001b[0m\u001b[32me\u001b[0m\u001b[32m(\u001b[0m\u001b[32ml\u001b[0m\u001b[32me\u001b[0m\u001b[32mn\u001b[0m\u001b[32m(\u001b[0m\u001b[32mn\u001b[0m\u001b[32mu\u001b[0m\u001b[32mm\u001b[0m\u001b[32ms\u001b[0m\u001b[32m)\u001b[0m\u001b[32m)\u001b[0m\u001b[32m:\u001b[0m\u001b[32m\n",
      "\u001b[0m\u001b[32m \u001b[0m\u001b[32m \u001b[0m\u001b[32m \u001b[0m\u001b[32m \u001b[0m\u001b[32m \u001b[0m\u001b[32m \u001b[0m\u001b[32m \u001b[0m\u001b[32m \u001b[0m\u001b[32mf\u001b[0m\u001b[32mo\u001b[0m\u001b[32mr\u001b[0m\u001b[32m \u001b[0m\u001b[32mj\u001b[0m\u001b[32m \u001b[0m\u001b[32mi\u001b[0m\u001b[32mn\u001b[0m\u001b[32m \u001b[0m\u001b[32mr\u001b[0m\u001b[32ma\u001b[0m\u001b[32mn\u001b[0m\u001b[32mg\u001b[0m\u001b[32me\u001b[0m\u001b[32m(\u001b[0m\u001b[32ml\u001b[0m\u001b[32me\u001b[0m\u001b[32mn\u001b[0m\u001b[32m(\u001b[0m\u001b[32mn\u001b[0m\u001b[32mu\u001b[0m\u001b[32mm\u001b[0m\u001b[32ms\u001b[0m\u001b[32m)\u001b[0m\u001b[32m \u001b[0m\u001b[32m-\u001b[0m\u001b[32m \u001b[0m\u001b[32m1\u001b[0m\u001b[32m)\u001b[0m\u001b[32m:\u001b[0m\u001b[32m\n",
      "\u001b[0m\u001b[32m \u001b[0m\u001b[32m \u001b[0m\u001b[32m \u001b[0m\u001b[32m \u001b[0m\u001b[32m \u001b[0m\u001b[32m \u001b[0m\u001b[32m \u001b[0m\u001b[32m \u001b[0m\u001b[32m \u001b[0m\u001b[32m \u001b[0m\u001b[32m \u001b[0m\u001b[32m \u001b[0m\u001b[32mi\u001b[0m\u001b[32mf\u001b[0m\u001b[32m \u001b[0m\u001b[32mn\u001b[0m\u001b[32mu\u001b[0m\u001b[32mm\u001b[0m\u001b[32ms\u001b[0m\u001b[32m[\u001b[0m\u001b[32mj\u001b[0m\u001b[32m]\u001b[0m\u001b[32m \u001b[0m\u001b[32m>\u001b[0m\u001b[32m \u001b[0m\u001b[32mn\u001b[0m\u001b[32mu\u001b[0m\u001b[32mm\u001b[0m\u001b[32ms\u001b[0m\u001b[32m[\u001b[0m\u001b[32mj\u001b[0m\u001b[32m \u001b[0m\u001b[32m+\u001b[0m\u001b[32m \u001b[0m\u001b[32m1\u001b[0m\u001b[32m]\u001b[0m\u001b[32m:\u001b[0m\u001b[32m\n",
      "\u001b[0m\u001b[32m \u001b[0m\u001b[32m \u001b[0m\u001b[32m \u001b[0m\u001b[32m \u001b[0m\u001b[32m \u001b[0m\u001b[32m \u001b[0m\u001b[32m \u001b[0m\u001b[32m \u001b[0m\u001b[32m \u001b[0m\u001b[32m \u001b[0m\u001b[32m \u001b[0m\u001b[32m \u001b[0m\u001b[32m \u001b[0m\u001b[32m \u001b[0m\u001b[32m \u001b[0m\u001b[32m \u001b[0m\u001b[32mn\u001b[0m\u001b[32mu\u001b[0m\u001b[32mm\u001b[0m\u001b[32ms\u001b[0m\u001b[32m[\u001b[0m\u001b[32mj\u001b[0m\u001b[32m]\u001b[0m\u001b[32m,\u001b[0m\u001b[32m \u001b[0m\u001b[32mn\u001b[0m\u001b[32mu\u001b[0m\u001b[32mm\u001b[0m\u001b[32ms\u001b[0m\u001b[32m[\u001b[0m\u001b[32mj\u001b[0m\u001b[32m \u001b[0m\u001b[32m+\u001b[0m\u001b[32m \u001b[0m\u001b[32m1\u001b[0m\u001b[32m]\u001b[0m\u001b[32m \u001b[0m\u001b[32m=\u001b[0m\u001b[32m \u001b[0m\u001b[32mn\u001b[0m\u001b[32mu\u001b[0m\u001b[32mm\u001b[0m\u001b[32ms\u001b[0m\u001b[32m[\u001b[0m\u001b[32mj\u001b[0m\u001b[32m \u001b[0m\u001b[32m+\u001b[0m\u001b[32m \u001b[0m\u001b[32m1\u001b[0m\u001b[32m]\u001b[0m\u001b[32m,\u001b[0m\u001b[32m \u001b[0m\u001b[32mn\u001b[0m\u001b[32mu\u001b[0m\u001b[32mm\u001b[0m\u001b[32ms\u001b[0m\u001b[32m[\u001b[0m\u001b[32mj\u001b[0m\u001b[32m]\u001b[0m\u001b[32m\n",
      "\u001b[0m\u001b[32m \u001b[0m\u001b[32m \u001b[0m\u001b[32m \u001b[0m\u001b[32m \u001b[0m\u001b[32mr\u001b[0m\u001b[32me\u001b[0m\u001b[32mt\u001b[0m\u001b[32mu\u001b[0m\u001b[32mr\u001b[0m\u001b[32mn\u001b[0m\u001b[32m \u001b[0m\u001b[32mn\u001b[0m\u001b[32mu\u001b[0m\u001b[32mm\u001b[0m\u001b[32ms\u001b[0m\u001b[32m\n",
      "\u001b[0m\u001b[32m\n",
      "\u001b[0m\u001b[32mO\u001b[0m\u001b[32mR\u001b[0m\u001b[32m:\u001b[0m\u001b[32m\n",
      "\u001b[0m\u001b[32md\u001b[0m\u001b[32me\u001b[0m\u001b[32mf\u001b[0m\u001b[32m \u001b[0m\u001b[32mb\u001b[0m\u001b[32mu\u001b[0m\u001b[32mb\u001b[0m\u001b[32mb\u001b[0m\u001b[32ml\u001b[0m\u001b[32me\u001b[0m\u001b[32m_\u001b[0m\u001b[32ms\u001b[0m\u001b[32mo\u001b[0m\u001b[32mr\u001b[0m\u001b[32mt\u001b[0m\u001b[32m(\u001b[0m\u001b[32mn\u001b[0m\u001b[32mu\u001b[0m\u001b[32mm\u001b[0m\u001b[32ms\u001b[0m\u001b[32m)\u001b[0m\u001b[32m:\u001b[0m\u001b[32m\n",
      "\u001b[0m\u001b[32m \u001b[0m\u001b[32m \u001b[0m\u001b[32m \u001b[0m\u001b[32m \u001b[0m\u001b[32mf\u001b[0m\u001b[32mo\u001b[0m\u001b[32mr\u001b[0m\u001b[32m \u001b[0m\u001b[32mi\u001b[0m\u001b[32m \u001b[0m\u001b[32mi\u001b[0m\u001b[32mn\u001b[0m\u001b[32m \u001b[0m\u001b[32mr\u001b[0m\u001b[32ma\u001b[0m\u001b[32mn\u001b[0m\u001b[32mg\u001b[0m\u001b[32me\u001b[0m\u001b[32m(\u001b[0m\u001b[32ml\u001b[0m\u001b[32me\u001b[0m\u001b[32mn\u001b[0m\u001b[32m(\u001b[0m\u001b[32mn\u001b[0m\u001b[32mu\u001b[0m\u001b[32mm\u001b[0m\u001b[32ms\u001b[0m\u001b[32m)\u001b[0m\u001b[32m)\u001b[0m\u001b[32m:\u001b[0m\u001b[32m\n",
      "\u001b[0m\u001b[32m \u001b[0m\u001b[32m \u001b[0m\u001b[32m \u001b[0m\u001b[32m \u001b[0m\u001b[32m \u001b[0m\u001b[32m \u001b[0m\u001b[32m \u001b[0m\u001b[32m \u001b[0m\u001b[32mf\u001b[0m\u001b[32mo\u001b[0m\u001b[32mr\u001b[0m\u001b[32m \u001b[0m\u001b[32mj\u001b[0m\u001b[32m \u001b[0m\u001b[32mi\u001b[0m\u001b[32mn\u001b[0m\u001b[32m \u001b[0m\u001b[32mr\u001b[0m\u001b[32ma\u001b[0m\u001b[32mn\u001b[0m\u001b[32mg\u001b[0m\u001b[32me\u001b[0m\u001b[32m(\u001b[0m\u001b[32ml\u001b[0m\u001b[32me\u001b[0m\u001b[32mn\u001b[0m\u001b[32m(\u001b[0m\u001b[32mn\u001b[0m\u001b[32mu\u001b[0m\u001b[32mm\u001b[0m\u001b[32ms\u001b[0m\u001b[32m)\u001b[0m\u001b[32m \u001b[0m\u001b[32m-\u001b[0m\u001b[32m \u001b[0m\u001b[32mi\u001b[0m\u001b[32m \u001b[0m\u001b[32m-\u001b[0m\u001b[32m \u001b[0m\u001b[32m1\u001b[0m\u001b[32m)\u001b[0m\u001b[32m:\u001b[0m\u001b[32m\n",
      "\u001b[0m\u001b[32m \u001b[0m\u001b[32m \u001b[0m\u001b[32m \u001b[0m\u001b[32m \u001b[0m\u001b[32m \u001b[0m\u001b[32m \u001b[0m\u001b[32m \u001b[0m\u001b[32m \u001b[0m\u001b[32m \u001b[0m\u001b[32m \u001b[0m\u001b[32m \u001b[0m\u001b[32m \u001b[0m\u001b[32mi\u001b[0m\u001b[32mf\u001b[0m\u001b[32m \u001b[0m\u001b[32mn\u001b[0m\u001b[32mu\u001b[0m\u001b[32mm\u001b[0m\u001b[32ms\u001b[0m\u001b[32m[\u001b[0m\u001b[32mj\u001b[0m\u001b[32m]\u001b[0m\u001b[32m \u001b[0m\u001b[32m>\u001b[0m\u001b[32m \u001b[0m\u001b[32mn\u001b[0m\u001b[32mu\u001b[0m\u001b[32mm\u001b[0m\u001b[32ms\u001b[0m\u001b[32m[\u001b[0m\u001b[32mj\u001b[0m\u001b[32m \u001b[0m\u001b[32m+\u001b[0m\u001b[32m \u001b[0m\u001b[32m1\u001b[0m\u001b[32m]\u001b[0m\u001b[32m:\u001b[0m\u001b[32m\n",
      "\u001b[0m\u001b[32m \u001b[0m\u001b[32m \u001b[0m\u001b[32m \u001b[0m\u001b[32m \u001b[0m\u001b[32m \u001b[0m\u001b[32m \u001b[0m\u001b[32m \u001b[0m\u001b[32m \u001b[0m\u001b[32m \u001b[0m\u001b[32m \u001b[0m\u001b[32m \u001b[0m\u001b[32m \u001b[0m\u001b[32m \u001b[0m\u001b[32m \u001b[0m\u001b[32m \u001b[0m\u001b[32m \u001b[0m\u001b[32mn\u001b[0m\u001b[32mu\u001b[0m\u001b[32mm\u001b[0m\u001b[32ms\u001b[0m\u001b[32m[\u001b[0m\u001b[32mj\u001b[0m\u001b[32m]\u001b[0m\u001b[32m,\u001b[0m\u001b[32m \u001b[0m\u001b[32mn\u001b[0m\u001b[32mu\u001b[0m\u001b[32mm\u001b[0m\u001b[32ms\u001b[0m\u001b[32m[\u001b[0m\u001b[32mj\u001b[0m\u001b[32m \u001b[0m\u001b[32m+\u001b[0m\u001b[32m \u001b[0m\u001b[32m1\u001b[0m\u001b[32m]\u001b[0m\u001b[32m \u001b[0m\u001b[32m=\u001b[0m\u001b[32m \u001b[0m\u001b[32mn\u001b[0m\u001b[32mu\u001b[0m\u001b[32mm\u001b[0m\u001b[32ms\u001b[0m\u001b[32m[\u001b[0m\u001b[32mj\u001b[0m\u001b[32m \u001b[0m\u001b[32m+\u001b[0m\u001b[32m \u001b[0m\u001b[32m1\u001b[0m\u001b[32m]\u001b[0m\u001b[32m,\u001b[0m\u001b[32m \u001b[0m\u001b[32mn\u001b[0m\u001b[32mu\u001b[0m\u001b[32mm\u001b[0m\u001b[32ms\u001b[0m\u001b[32m[\u001b[0m\u001b[32mj\u001b[0m\u001b[32m]\u001b[0m\u001b[32m\n",
      "\u001b[0m\u001b[32m \u001b[0m\u001b[32m \u001b[0m\u001b[32m \u001b[0m\u001b[32m \u001b[0m\u001b[32mr\u001b[0m\u001b[32me\u001b[0m\u001b[32mt\u001b[0m\u001b[32mu\u001b[0m\u001b[32mr\u001b[0m\u001b[32mn\u001b[0m\u001b[32m \u001b[0m\u001b[32mn\u001b[0m\u001b[32mu\u001b[0m\u001b[32mm\u001b[0m\u001b[32ms\u001b[0m\u001b[32m\n",
      "\u001b[0m\u001b[32m\n",
      "\u001b[0m\u001b[32m\n",
      "\u001b[0m\u001b[32m\n",
      "\u001b[0m\u001b[32m\n",
      "\u001b[0m\u001b[32m\n",
      "\u001b[0m\u001b[32m\n",
      "\u001b[0m\u001b[32m\n",
      "\u001b[0m\u001b[32m\n",
      "\u001b[0m\u001b[32m\n",
      "\u001b[0m\u001b[32m\n",
      "\u001b[0m\u001b[32m\n",
      "\u001b[0m\u001b[32m\n",
      "\u001b[0m\u001b[32m\n",
      "\u001b[0m\u001b[32m\n",
      "\u001b[0m\u001b[32m\n",
      "\u001b[0m\u001b[32m\n",
      "\u001b[0m\u001b[32m\n",
      "\u001b[0m\u001b[32m\n",
      "\u001b[0m\u001b[32m\n",
      "\u001b[0m\u001b[32m\n",
      "\u001b[0m\u001b[32m\n",
      "\u001b[0m\u001b[32m\n",
      "\u001b[0m\u001b[32m\n",
      "\u001b[0m\u001b[32m\n",
      "\u001b[0m\u001b[32m\n",
      "\u001b[0m\u001b[32m\n",
      "\u001b[0m\u001b[32m\n",
      "\u001b[0m\u001b[32m\n",
      "\u001b[0m\u001b[32m\n",
      "\u001b[0m\u001b[32m\n",
      "\u001b[0m\u001b[32m\n",
      "\u001b[0m\u001b[32m\n",
      "\u001b[0m\u001b[32m\n",
      "\u001b[0m\u001b[32m\n",
      "\u001b[0m\u001b[32m\n",
      "\u001b[0m\u001b[32m\n",
      "\u001b[0m\u001b[32m\n",
      "\u001b[0m\u001b[32m\n",
      "\u001b[0m\u001b[32m\n",
      "\u001b[0m\u001b[32m\n",
      "\u001b[0m\u001b[32m\n",
      "\u001b[0m\u001b[32m\n",
      "\u001b[0m\u001b[32m\n",
      "\u001b[0m\u001b[32m\n",
      "\u001b[0m\u001b[32m\n",
      "\u001b[0m\u001b[32m\n",
      "\u001b[0m\u001b[32m\n",
      "\u001b[0m\u001b[32m\n",
      "\u001b[0m\u001b[32m\n",
      "\u001b[0m\u001b[32m\n",
      "\u001b[0m\u001b[32m\n",
      "\u001b[0m\u001b[32m\n",
      "\u001b[0m\u001b[32m\n",
      "\u001b[0m\u001b[32m\n",
      "\u001b[0m\u001b[32m\n",
      "\u001b[0m\u001b[32m\n",
      "\u001b[0m\u001b[32m\n",
      "\u001b[0m\u001b[32m\n",
      "\u001b[0m\u001b[32m\n",
      "\u001b[0m\u001b[32m\n",
      "\u001b[0m\u001b[32m\n",
      "\u001b[0m\u001b[32m\n",
      "\u001b[0m"
     ]
    }
   ],
   "source": [
    "%duck -a"
   ]
  },
  {
   "cell_type": "code",
   "execution_count": 16,
   "metadata": {
    "ExecuteTime": {
     "end_time": "2023-03-02T03:16:00.530643Z",
     "start_time": "2023-03-02T03:16:00.472985Z"
    }
   },
   "outputs": [
    {
     "ename": "IndexError",
     "evalue": "list index out of range",
     "output_type": "error",
     "traceback": [
      "\u001b[0;31m---------------------------------------------------------------------------\u001b[0m",
      "\u001b[0;31mIndexError\u001b[0m                                Traceback (most recent call last)",
      "\u001b[0;32m<ipython-input-16-9bb1c33833ca>\u001b[0m in \u001b[0;36m<module>\u001b[0;34m\u001b[0m\n\u001b[0;32m----> 1\u001b[0;31m \u001b[0mbubble_sort\u001b[0m\u001b[0;34m(\u001b[0m\u001b[0mnums\u001b[0m\u001b[0;34m)\u001b[0m\u001b[0;34m\u001b[0m\u001b[0;34m\u001b[0m\u001b[0m\n\u001b[0m",
      "\u001b[0;32m<ipython-input-5-e273d01fe34c>\u001b[0m in \u001b[0;36mbubble_sort\u001b[0;34m(nums)\u001b[0m\n\u001b[1;32m      2\u001b[0m     \u001b[0;32mfor\u001b[0m \u001b[0mi\u001b[0m \u001b[0;32min\u001b[0m \u001b[0mrange\u001b[0m\u001b[0;34m(\u001b[0m\u001b[0mlen\u001b[0m\u001b[0;34m(\u001b[0m\u001b[0mnums\u001b[0m\u001b[0;34m)\u001b[0m\u001b[0;34m)\u001b[0m\u001b[0;34m:\u001b[0m\u001b[0;34m\u001b[0m\u001b[0;34m\u001b[0m\u001b[0m\n\u001b[1;32m      3\u001b[0m         \u001b[0;32mfor\u001b[0m \u001b[0mj\u001b[0m \u001b[0;32min\u001b[0m \u001b[0mrange\u001b[0m\u001b[0;34m(\u001b[0m\u001b[0mlen\u001b[0m\u001b[0;34m(\u001b[0m\u001b[0mnums\u001b[0m\u001b[0;34m)\u001b[0m\u001b[0;34m)\u001b[0m\u001b[0;34m:\u001b[0m\u001b[0;34m\u001b[0m\u001b[0;34m\u001b[0m\u001b[0m\n\u001b[0;32m----> 4\u001b[0;31m             \u001b[0;32mif\u001b[0m \u001b[0mnums\u001b[0m\u001b[0;34m[\u001b[0m\u001b[0mj\u001b[0m\u001b[0;34m]\u001b[0m \u001b[0;34m>\u001b[0m \u001b[0mnums\u001b[0m\u001b[0;34m[\u001b[0m\u001b[0mj\u001b[0m \u001b[0;34m+\u001b[0m \u001b[0;36m1\u001b[0m\u001b[0;34m]\u001b[0m\u001b[0;34m:\u001b[0m\u001b[0;34m\u001b[0m\u001b[0;34m\u001b[0m\u001b[0m\n\u001b[0m\u001b[1;32m      5\u001b[0m                 \u001b[0mnums\u001b[0m\u001b[0;34m[\u001b[0m\u001b[0mj\u001b[0m\u001b[0;34m]\u001b[0m\u001b[0;34m,\u001b[0m \u001b[0mnums\u001b[0m\u001b[0;34m[\u001b[0m\u001b[0mj\u001b[0m \u001b[0;34m+\u001b[0m \u001b[0;36m1\u001b[0m\u001b[0;34m]\u001b[0m \u001b[0;34m=\u001b[0m \u001b[0mnums\u001b[0m\u001b[0;34m[\u001b[0m\u001b[0mj\u001b[0m \u001b[0;34m+\u001b[0m \u001b[0;36m1\u001b[0m\u001b[0;34m]\u001b[0m\u001b[0;34m,\u001b[0m \u001b[0mnums\u001b[0m\u001b[0;34m[\u001b[0m\u001b[0mj\u001b[0m\u001b[0;34m]\u001b[0m\u001b[0;34m\u001b[0m\u001b[0;34m\u001b[0m\u001b[0m\n\u001b[1;32m      6\u001b[0m     \u001b[0;32mreturn\u001b[0m \u001b[0mnums\u001b[0m\u001b[0;34m\u001b[0m\u001b[0;34m\u001b[0m\u001b[0m\n",
      "\u001b[0;31mIndexError\u001b[0m: list index out of range"
     ]
    }
   ],
   "source": [
    "# Should return back to normal exception behavior after magic completes.\n",
    "bubble_sort(nums)"
   ]
  },
  {
   "cell_type": "code",
   "execution_count": 15,
   "metadata": {
    "ExecuteTime": {
     "end_time": "2023-02-20T00:06:25.950789Z",
     "start_time": "2023-02-20T00:06:25.824215Z"
    }
   },
   "outputs": [],
   "source": [
    "from roboduck.debugger import roboduck"
   ]
  },
  {
   "cell_type": "code",
   "execution_count": 16,
   "metadata": {
    "ExecuteTime": {
     "end_time": "2023-02-20T00:06:26.931009Z",
     "start_time": "2023-02-20T00:06:26.892648Z"
    }
   },
   "outputs": [],
   "source": [
    "def bubble_sort(nums):\n",
    "    for i in range(len(nums)):\n",
    "        for j in range(len(nums)):\n",
    "            if nums[j] > nums[j + 1]:\n",
    "                nums[j], nums[j + 1] = nums[j + 1], nums[j]\n",
    "            roboduck()\n",
    "    return nums"
   ]
  },
  {
   "cell_type": "code",
   "execution_count": 17,
   "metadata": {
    "ExecuteTime": {
     "end_time": "2023-02-20T00:07:05.240486Z",
     "start_time": "2023-02-20T00:06:27.388879Z"
    }
   },
   "outputs": [
    {
     "name": "stdout",
     "output_type": "stream",
     "text": [
      "[27] > \u001b[33;01m<ipython-input-16-95174b1d61b8>\u001b[00m(\u001b[36;01m3\u001b[00m)bubble_sort()\n",
      "-> for j in range(len(nums)):\n",
      "   1 frame hidden (try 'help hidden_frames')\n",
      ">>> i,j\n",
      "(0, 0)\n",
      ">>> n\n",
      "[27] > \u001b[33;01m<ipython-input-16-95174b1d61b8>\u001b[00m(\u001b[36;01m4\u001b[00m)bubble_sort()\n",
      "-> if nums[j] > nums[j + 1]:\n",
      "   1 frame hidden (try 'help hidden_frames')\n",
      ">>> n\n",
      "[27] > \u001b[33;01m<ipython-input-16-95174b1d61b8>\u001b[00m(\u001b[36;01m6\u001b[00m)bubble_sort()\n",
      "-> roboduck()\n",
      "   1 frame hidden (try 'help hidden_frames')\n",
      ">>> n\n",
      "[27] > \u001b[33;01m<ipython-input-16-95174b1d61b8>\u001b[00m(\u001b[36;01m3\u001b[00m)bubble_sort()\n",
      "-> for j in range(len(nums)):\n",
      "   1 frame hidden (try 'help hidden_frames')\n",
      ">>> n\n",
      "[27] > \u001b[33;01m<ipython-input-16-95174b1d61b8>\u001b[00m(\u001b[36;01m4\u001b[00m)bubble_sort()\n",
      "-> if nums[j] > nums[j + 1]:\n",
      "   1 frame hidden (try 'help hidden_frames')\n",
      ">>> n\n",
      "[27] > \u001b[33;01m<ipython-input-16-95174b1d61b8>\u001b[00m(\u001b[36;01m6\u001b[00m)bubble_sort()\n",
      "-> roboduck()\n",
      "   1 frame hidden (try 'help hidden_frames')\n",
      ">>> n\n",
      "[27] > \u001b[33;01m<ipython-input-16-95174b1d61b8>\u001b[00m(\u001b[36;01m3\u001b[00m)bubble_sort()\n",
      "-> for j in range(len(nums)):\n",
      "   1 frame hidden (try 'help hidden_frames')\n",
      ">>> n\n",
      "[27] > \u001b[33;01m<ipython-input-16-95174b1d61b8>\u001b[00m(\u001b[36;01m4\u001b[00m)bubble_sort()\n",
      "-> if nums[j] > nums[j + 1]:\n",
      "   1 frame hidden (try 'help hidden_frames')\n",
      ">>> n\n",
      "[27] > \u001b[33;01m<ipython-input-16-95174b1d61b8>\u001b[00m(\u001b[36;01m5\u001b[00m)bubble_sort()\n",
      "-> nums[j], nums[j + 1] = nums[j + 1], nums[j]\n",
      "   1 frame hidden (try 'help hidden_frames')\n",
      ">>> n\n",
      "[27] > \u001b[33;01m<ipython-input-16-95174b1d61b8>\u001b[00m(\u001b[36;01m6\u001b[00m)bubble_sort()\n",
      "-> roboduck()\n",
      "   1 frame hidden (try 'help hidden_frames')\n",
      ">>> n\n",
      "[27] > \u001b[33;01m<ipython-input-16-95174b1d61b8>\u001b[00m(\u001b[36;01m3\u001b[00m)bubble_sort()\n",
      "-> for j in range(len(nums)):\n",
      "   1 frame hidden (try 'help hidden_frames')\n",
      ">>> n\n",
      "[27] > \u001b[33;01m<ipython-input-16-95174b1d61b8>\u001b[00m(\u001b[36;01m4\u001b[00m)bubble_sort()\n",
      "-> if nums[j] > nums[j + 1]:\n",
      "   1 frame hidden (try 'help hidden_frames')\n",
      ">>> n\n",
      "[27] > \u001b[33;01m<ipython-input-16-95174b1d61b8>\u001b[00m(\u001b[36;01m5\u001b[00m)bubble_sort()\n",
      "-> nums[j], nums[j + 1] = nums[j + 1], nums[j]\n",
      "   1 frame hidden (try 'help hidden_frames')\n",
      ">>> nn\n",
      "*** NameError: name 'nn' is not defined\n",
      ">>> n\n",
      "[27] > \u001b[33;01m<ipython-input-16-95174b1d61b8>\u001b[00m(\u001b[36;01m6\u001b[00m)bubble_sort()\n",
      "-> roboduck()\n",
      "   1 frame hidden (try 'help hidden_frames')\n",
      ">>> n\n",
      "[27] > \u001b[33;01m<ipython-input-16-95174b1d61b8>\u001b[00m(\u001b[36;01m3\u001b[00m)bubble_sort()\n",
      "-> for j in range(len(nums)):\n",
      "   1 frame hidden (try 'help hidden_frames')\n",
      ">>> n\n",
      "[27] > \u001b[33;01m<ipython-input-16-95174b1d61b8>\u001b[00m(\u001b[36;01m4\u001b[00m)bubble_sort()\n",
      "-> if nums[j] > nums[j + 1]:\n",
      "   1 frame hidden (try 'help hidden_frames')\n",
      ">>> i,j\n",
      "(0, 5)\n",
      ">>> n\n",
      "[27] > \u001b[33;01m<ipython-input-16-95174b1d61b8>\u001b[00m(\u001b[36;01m5\u001b[00m)bubble_sort()\n",
      "-> nums[j], nums[j + 1] = nums[j + 1], nums[j]\n",
      "   1 frame hidden (try 'help hidden_frames')\n",
      ">>> n\n",
      "[27] > \u001b[33;01m<ipython-input-16-95174b1d61b8>\u001b[00m(\u001b[36;01m6\u001b[00m)bubble_sort()\n",
      "-> roboduck()\n",
      "   1 frame hidden (try 'help hidden_frames')\n",
      ">>> n\n",
      "[27] > \u001b[33;01m<ipython-input-16-95174b1d61b8>\u001b[00m(\u001b[36;01m3\u001b[00m)bubble_sort()\n",
      "-> for j in range(len(nums)):\n",
      "   1 frame hidden (try 'help hidden_frames')\n",
      ">>> n\n",
      "[27] > \u001b[33;01m<ipython-input-16-95174b1d61b8>\u001b[00m(\u001b[36;01m4\u001b[00m)bubble_sort()\n",
      "-> if nums[j] > nums[j + 1]:\n",
      "   1 frame hidden (try 'help hidden_frames')\n",
      ">>> i,j\n",
      "(0, 6)\n",
      ">>> \n",
      "(0, 6)\n",
      ">>> n\n",
      "[27] > \u001b[33;01m<ipython-input-16-95174b1d61b8>\u001b[00m(\u001b[36;01m6\u001b[00m)bubble_sort()\n",
      "-> roboduck()\n",
      "   1 frame hidden (try 'help hidden_frames')\n",
      ">>> n\n",
      "[27] > \u001b[33;01m<ipython-input-16-95174b1d61b8>\u001b[00m(\u001b[36;01m3\u001b[00m)bubble_sort()\n",
      "-> for j in range(len(nums)):\n",
      "   1 frame hidden (try 'help hidden_frames')\n",
      ">>> n\n",
      "[27] > \u001b[33;01m<ipython-input-16-95174b1d61b8>\u001b[00m(\u001b[36;01m4\u001b[00m)bubble_sort()\n",
      "-> if nums[j] > nums[j + 1]:\n",
      "   1 frame hidden (try 'help hidden_frames')\n",
      ">>> i,j\n",
      "(0, 7)\n",
      ">>> nums\n",
      "[31, 43, 61, 25, 39, 17, 68, 76, 88, 94]\n",
      ">>> Why will this throw an error in a couple iterations?\n",
      "\u001b[32m[RoboDuck] \u001b[0m\u001b[32m\n",
      "\u001b[0m\u001b[32mT\u001b[0m\u001b[32mh\u001b[0m\u001b[32me\u001b[0m\u001b[32m \u001b[0m\u001b[32mp\u001b[0m\u001b[32mr\u001b[0m\u001b[32mo\u001b[0m\u001b[32mb\u001b[0m\u001b[32ml\u001b[0m\u001b[32me\u001b[0m\u001b[32mm\u001b[0m\u001b[32m \u001b[0m\u001b[32mi\u001b[0m\u001b[32ms\u001b[0m\u001b[32m \u001b[0m\u001b[32mt\u001b[0m\u001b[32mh\u001b[0m\u001b[32ma\u001b[0m\u001b[32mt\u001b[0m\u001b[32m \u001b[0m\u001b[32mt\u001b[0m\u001b[32mh\u001b[0m\u001b[32me\u001b[0m\u001b[32m \u001b[0m\u001b[32ms\u001b[0m\u001b[32me\u001b[0m\u001b[32mc\u001b[0m\u001b[32mo\u001b[0m\u001b[32mn\u001b[0m\u001b[32md\u001b[0m\u001b[32m \u001b[0m\u001b[32mf\u001b[0m\u001b[32mo\u001b[0m\u001b[32mr\u001b[0m\u001b[32m \u001b[0m\u001b[32ml\u001b[0m\u001b[32mo\u001b[0m\u001b[32mo\u001b[0m\u001b[32mp\u001b[0m\u001b[32m \u001b[0m\u001b[32mi\u001b[0m\u001b[32ms\u001b[0m\u001b[32m \u001b[0m\u001b[32mi\u001b[0m\u001b[32mt\u001b[0m\u001b[32me\u001b[0m\u001b[32mr\u001b[0m\u001b[32ma\u001b[0m\u001b[32mt\u001b[0m\u001b[32mi\u001b[0m\u001b[32mn\u001b[0m\u001b[32mg\u001b[0m\u001b[32m \u001b[0m\u001b[32mo\u001b[0m\u001b[32mv\u001b[0m\u001b[32me\u001b[0m\u001b[32mr\u001b[0m\u001b[32m \u001b[0m\u001b[32mt\u001b[0m\u001b[32mh\u001b[0m\u001b[32me\u001b[0m\u001b[32m \u001b[0m\u001b[32me\u001b[0m\u001b[32mn\u001b[0m\u001b[32mt\u001b[0m\u001b[32mi\u001b[0m\u001b[32mr\u001b[0m\u001b[32me\u001b[0m\u001b[32m \u001b[0m\u001b[32ml\u001b[0m\u001b[32mi\u001b[0m\u001b[32ms\u001b[0m\u001b[32mt\u001b[0m\u001b[32m,\u001b[0m\u001b[32m \u001b[0m\u001b[32mb\u001b[0m\u001b[32mu\u001b[0m\u001b[32mt\u001b[0m\u001b[32m \u001b[0m\u001b[32mt\u001b[0m\u001b[32mh\u001b[0m\u001b[32me\u001b[0m\u001b[32m \u001b[0m\u001b[32mf\u001b[0m\u001b[32mi\u001b[0m\u001b[32mr\u001b[0m\u001b[32ms\u001b[0m\u001b[32mt\u001b[0m\u001b[32m \u001b[0m\u001b[32mf\u001b[0m\u001b[32mo\u001b[0m\u001b[32mr\u001b[0m\u001b[32m \u001b[0m\u001b[32ml\u001b[0m\u001b[32mo\u001b[0m\u001b[32mo\u001b[0m\u001b[32mp\u001b[0m\u001b[32m \u001b[0m\u001b[32mi\u001b[0m\u001b[32ms\u001b[0m\u001b[32m \u001b[0m\u001b[32mo\u001b[0m\u001b[32mn\u001b[0m\u001b[32ml\u001b[0m\u001b[32my\u001b[0m\u001b[32m \u001b[0m\u001b[32mi\u001b[0m\u001b[32mt\u001b[0m\u001b[32me\u001b[0m\u001b[32mr\u001b[0m\u001b[32ma\u001b[0m\u001b[32mt\u001b[0m\u001b[32mi\u001b[0m\u001b[32mn\u001b[0m\u001b[32mg\u001b[0m\u001b[32m \u001b[0m\u001b[32mo\u001b[0m\u001b[32mv\u001b[0m\u001b[32me\u001b[0m\u001b[32mr\u001b[0m\u001b[32m \u001b[0m\u001b[32mt\u001b[0m\u001b[32mh\u001b[0m\u001b[32me\u001b[0m\u001b[32m \u001b[0m\u001b[32mf\u001b[0m\u001b[32mi\u001b[0m\u001b[32mr\u001b[0m\u001b[32ms\u001b[0m\u001b[32mt\u001b[0m\u001b[32m \u001b[0m\u001b[32m9\u001b[0m\u001b[32m \u001b[0m\u001b[32me\u001b[0m\u001b[32ml\u001b[0m\u001b[32me\u001b[0m\u001b[32mm\u001b[0m\u001b[32me\u001b[0m\u001b[32mn\u001b[0m\u001b[32mt\u001b[0m\u001b[32ms\u001b[0m\u001b[32m.\u001b[0m\u001b[32m \u001b[0m\u001b[32mT\u001b[0m\u001b[32mh\u001b[0m\u001b[32mi\u001b[0m\u001b[32ms\u001b[0m\u001b[32m \u001b[0m\u001b[32mm\u001b[0m\u001b[32me\u001b[0m\u001b[32ma\u001b[0m\u001b[32mn\u001b[0m\u001b[32ms\u001b[0m\u001b[32m \u001b[0m\u001b[32mt\u001b[0m\u001b[32mh\u001b[0m\u001b[32ma\u001b[0m\u001b[32mt\u001b[0m\u001b[32m \u001b[0m\u001b[32mw\u001b[0m\u001b[32mh\u001b[0m\u001b[32me\u001b[0m\u001b[32mn\u001b[0m\u001b[32m \u001b[0m\u001b[32mj\u001b[0m\u001b[32m \u001b[0m\u001b[32m=\u001b[0m\u001b[32m \u001b[0m\u001b[32m9\u001b[0m\u001b[32m,\u001b[0m\u001b[32m \u001b[0m\u001b[32mn\u001b[0m\u001b[32mu\u001b[0m\u001b[32mm\u001b[0m\u001b[32ms\u001b[0m\u001b[32m[\u001b[0m\u001b[32mj\u001b[0m\u001b[32m \u001b[0m\u001b[32m+\u001b[0m\u001b[32m \u001b[0m\u001b[32m1\u001b[0m\u001b[32m]\u001b[0m\u001b[32m \u001b[0m\u001b[32mw\u001b[0m\u001b[32mi\u001b[0m\u001b[32ml\u001b[0m\u001b[32ml\u001b[0m\u001b[32m \u001b[0m\u001b[32mb\u001b[0m\u001b[32me\u001b[0m\u001b[32m \u001b[0m\u001b[32mo\u001b[0m\u001b[32mu\u001b[0m\u001b[32mt\u001b[0m\u001b[32m \u001b[0m\u001b[32mo\u001b[0m\u001b[32mf\u001b[0m\u001b[32m \u001b[0m\u001b[32mr\u001b[0m\u001b[32ma\u001b[0m\u001b[32mn\u001b[0m\u001b[32mg\u001b[0m\u001b[32me\u001b[0m\u001b[32m.\u001b[0m\u001b[32m\n",
      "\u001b[0m\u001b[32m\n",
      "\u001b[0m\u001b[32m\n",
      "\u001b[0m\u001b[32md\u001b[0m\u001b[32me\u001b[0m\u001b[32mf\u001b[0m\u001b[32m \u001b[0m\u001b[32mb\u001b[0m\u001b[32mu\u001b[0m\u001b[32mb\u001b[0m\u001b[32mb\u001b[0m\u001b[32ml\u001b[0m\u001b[32me\u001b[0m\u001b[32m_\u001b[0m\u001b[32ms\u001b[0m\u001b[32mo\u001b[0m\u001b[32mr\u001b[0m\u001b[32mt\u001b[0m\u001b[32m(\u001b[0m\u001b[32mn\u001b[0m\u001b[32mu\u001b[0m\u001b[32mm\u001b[0m\u001b[32ms\u001b[0m\u001b[32m)\u001b[0m\u001b[32m:\u001b[0m\u001b[32m\n",
      "\u001b[0m\u001b[32m \u001b[0m\u001b[32m \u001b[0m\u001b[32m \u001b[0m\u001b[32m \u001b[0m\u001b[32mf\u001b[0m\u001b[32mo\u001b[0m\u001b[32mr\u001b[0m\u001b[32m \u001b[0m\u001b[32mi\u001b[0m\u001b[32m \u001b[0m\u001b[32mi\u001b[0m\u001b[32mn\u001b[0m\u001b[32m \u001b[0m\u001b[32mr\u001b[0m\u001b[32ma\u001b[0m\u001b[32mn\u001b[0m\u001b[32mg\u001b[0m\u001b[32me\u001b[0m\u001b[32m(\u001b[0m\u001b[32ml\u001b[0m\u001b[32me\u001b[0m\u001b[32mn\u001b[0m\u001b[32m(\u001b[0m\u001b[32mn\u001b[0m\u001b[32mu\u001b[0m\u001b[32mm\u001b[0m\u001b[32ms\u001b[0m\u001b[32m)\u001b[0m\u001b[32m)\u001b[0m\u001b[32m:\u001b[0m\u001b[32m\n",
      "\u001b[0m\u001b[32m \u001b[0m\u001b[32m \u001b[0m\u001b[32m \u001b[0m\u001b[32m \u001b[0m\u001b[32m \u001b[0m\u001b[32m \u001b[0m\u001b[32m \u001b[0m\u001b[32m \u001b[0m\u001b[32mf\u001b[0m\u001b[32mo\u001b[0m\u001b[32mr\u001b[0m\u001b[32m \u001b[0m\u001b[32mj\u001b[0m\u001b[32m \u001b[0m\u001b[32mi\u001b[0m\u001b[32mn\u001b[0m\u001b[32m \u001b[0m\u001b[32mr\u001b[0m\u001b[32ma\u001b[0m\u001b[32mn\u001b[0m\u001b[32mg\u001b[0m\u001b[32me\u001b[0m\u001b[32m(\u001b[0m\u001b[32ml\u001b[0m\u001b[32me\u001b[0m\u001b[32mn\u001b[0m\u001b[32m(\u001b[0m\u001b[32mn\u001b[0m\u001b[32mu\u001b[0m\u001b[32mm\u001b[0m\u001b[32ms\u001b[0m\u001b[32m)\u001b[0m\u001b[32m \u001b[0m\u001b[32m-\u001b[0m\u001b[32m \u001b[0m\u001b[32m1\u001b[0m\u001b[32m)\u001b[0m\u001b[32m:\u001b[0m\u001b[32m\n",
      "\u001b[0m\u001b[32m \u001b[0m\u001b[32m \u001b[0m\u001b[32m \u001b[0m\u001b[32m \u001b[0m\u001b[32m \u001b[0m\u001b[32m \u001b[0m\u001b[32m \u001b[0m\u001b[32m \u001b[0m\u001b[32m \u001b[0m\u001b[32m \u001b[0m\u001b[32m \u001b[0m\u001b[32m \u001b[0m\u001b[32mi\u001b[0m\u001b[32mf\u001b[0m\u001b[32m \u001b[0m\u001b[32mn\u001b[0m\u001b[32mu\u001b[0m\u001b[32mm\u001b[0m\u001b[32ms\u001b[0m\u001b[32m[\u001b[0m\u001b[32mj\u001b[0m\u001b[32m]\u001b[0m\u001b[32m \u001b[0m\u001b[32m>\u001b[0m\u001b[32m \u001b[0m\u001b[32mn\u001b[0m\u001b[32mu\u001b[0m\u001b[32mm\u001b[0m\u001b[32ms\u001b[0m\u001b[32m[\u001b[0m\u001b[32mj\u001b[0m\u001b[32m \u001b[0m\u001b[32m+\u001b[0m\u001b[32m \u001b[0m\u001b[32m1\u001b[0m\u001b[32m]\u001b[0m\u001b[32m:\u001b[0m\u001b[32m\n",
      "\u001b[0m\u001b[32m \u001b[0m\u001b[32m \u001b[0m\u001b[32m \u001b[0m\u001b[32m \u001b[0m\u001b[32m \u001b[0m\u001b[32m \u001b[0m\u001b[32m \u001b[0m\u001b[32m \u001b[0m\u001b[32m \u001b[0m\u001b[32m \u001b[0m\u001b[32m \u001b[0m\u001b[32m \u001b[0m\u001b[32m \u001b[0m\u001b[32m \u001b[0m\u001b[32m \u001b[0m\u001b[32m \u001b[0m\u001b[32mn\u001b[0m\u001b[32mu\u001b[0m\u001b[32mm\u001b[0m\u001b[32ms\u001b[0m\u001b[32m[\u001b[0m\u001b[32mj\u001b[0m\u001b[32m]\u001b[0m\u001b[32m,\u001b[0m\u001b[32m \u001b[0m\u001b[32mn\u001b[0m\u001b[32mu\u001b[0m\u001b[32mm\u001b[0m\u001b[32ms\u001b[0m\u001b[32m[\u001b[0m\u001b[32mj\u001b[0m\u001b[32m \u001b[0m\u001b[32m+\u001b[0m\u001b[32m \u001b[0m\u001b[32m1\u001b[0m\u001b[32m]\u001b[0m\u001b[32m \u001b[0m\u001b[32m=\u001b[0m\u001b[32m \u001b[0m\u001b[32mn\u001b[0m\u001b[32mu\u001b[0m\u001b[32mm\u001b[0m\u001b[32ms\u001b[0m\u001b[32m[\u001b[0m\u001b[32mj\u001b[0m\u001b[32m \u001b[0m\u001b[32m+\u001b[0m\u001b[32m \u001b[0m\u001b[32m1\u001b[0m\u001b[32m]\u001b[0m\u001b[32m,\u001b[0m\u001b[32m \u001b[0m\u001b[32mn\u001b[0m\u001b[32mu\u001b[0m\u001b[32mm\u001b[0m\u001b[32ms\u001b[0m\u001b[32m[\u001b[0m\u001b[32mj\u001b[0m\u001b[32m]\u001b[0m\u001b[32m\n",
      "\u001b[0m\u001b[32m \u001b[0m\u001b[32m \u001b[0m\u001b[32m \u001b[0m\u001b[32m \u001b[0m\u001b[32m \u001b[0m\u001b[32m \u001b[0m\u001b[32m \u001b[0m\u001b[32m \u001b[0m\u001b[32m \u001b[0m\u001b[32m \u001b[0m\u001b[32m \u001b[0m\u001b[32m \u001b[0m\u001b[32mr\u001b[0m\u001b[32mo\u001b[0m\u001b[32mb\u001b[0m\u001b[32mo\u001b[0m\u001b[32md\u001b[0m\u001b[32mu\u001b[0m\u001b[32mc\u001b[0m\u001b[32mk\u001b[0m\u001b[32m(\u001b[0m\u001b[32m)\u001b[0m\u001b[32m\n"
     ]
    },
    {
     "name": "stdout",
     "output_type": "stream",
     "text": [
      "\u001b[0m\u001b[32m \u001b[0m\u001b[32m \u001b[0m\u001b[32m \u001b[0m\u001b[32m \u001b[0m\u001b[32mr\u001b[0m\u001b[32me\u001b[0m\u001b[32mt\u001b[0m\u001b[32mu\u001b[0m\u001b[32mr\u001b[0m\u001b[32mn\u001b[0m\u001b[32m \u001b[0m\u001b[32mn\u001b[0m\u001b[32mu\u001b[0m\u001b[32mm\u001b[0m\u001b[32ms\u001b[0m\u001b[32m\n",
      "\u001b[0m\u001b[32m\n",
      "\u001b[0m\u001b[32m\n",
      "\u001b[0m>>> q\n"
     ]
    },
    {
     "ename": "BdbQuit",
     "evalue": "",
     "output_type": "error",
     "traceback": [
      "\u001b[0;31m---------------------------------------------------------------------------\u001b[0m",
      "\u001b[0;31mBdbQuit\u001b[0m                                   Traceback (most recent call last)",
      "\u001b[0;32m<ipython-input-17-9bb1c33833ca>\u001b[0m in \u001b[0;36m<module>\u001b[0;34m\u001b[0m\n\u001b[0;32m----> 1\u001b[0;31m \u001b[0mbubble_sort\u001b[0m\u001b[0;34m(\u001b[0m\u001b[0mnums\u001b[0m\u001b[0;34m)\u001b[0m\u001b[0;34m\u001b[0m\u001b[0;34m\u001b[0m\u001b[0m\n\u001b[0m",
      "\u001b[0;32m<ipython-input-16-95174b1d61b8>\u001b[0m in \u001b[0;36mbubble_sort\u001b[0;34m(nums)\u001b[0m\n\u001b[1;32m      2\u001b[0m     \u001b[0;32mfor\u001b[0m \u001b[0mi\u001b[0m \u001b[0;32min\u001b[0m \u001b[0mrange\u001b[0m\u001b[0;34m(\u001b[0m\u001b[0mlen\u001b[0m\u001b[0;34m(\u001b[0m\u001b[0mnums\u001b[0m\u001b[0;34m)\u001b[0m\u001b[0;34m)\u001b[0m\u001b[0;34m:\u001b[0m\u001b[0;34m\u001b[0m\u001b[0;34m\u001b[0m\u001b[0m\n\u001b[1;32m      3\u001b[0m         \u001b[0;32mfor\u001b[0m \u001b[0mj\u001b[0m \u001b[0;32min\u001b[0m \u001b[0mrange\u001b[0m\u001b[0;34m(\u001b[0m\u001b[0mlen\u001b[0m\u001b[0;34m(\u001b[0m\u001b[0mnums\u001b[0m\u001b[0;34m)\u001b[0m\u001b[0;34m)\u001b[0m\u001b[0;34m:\u001b[0m\u001b[0;34m\u001b[0m\u001b[0;34m\u001b[0m\u001b[0m\n\u001b[0;32m----> 4\u001b[0;31m             \u001b[0;32mif\u001b[0m \u001b[0mnums\u001b[0m\u001b[0;34m[\u001b[0m\u001b[0mj\u001b[0m\u001b[0;34m]\u001b[0m \u001b[0;34m>\u001b[0m \u001b[0mnums\u001b[0m\u001b[0;34m[\u001b[0m\u001b[0mj\u001b[0m \u001b[0;34m+\u001b[0m \u001b[0;36m1\u001b[0m\u001b[0;34m]\u001b[0m\u001b[0;34m:\u001b[0m\u001b[0;34m\u001b[0m\u001b[0;34m\u001b[0m\u001b[0m\n\u001b[0m\u001b[1;32m      5\u001b[0m                 \u001b[0mnums\u001b[0m\u001b[0;34m[\u001b[0m\u001b[0mj\u001b[0m\u001b[0;34m]\u001b[0m\u001b[0;34m,\u001b[0m \u001b[0mnums\u001b[0m\u001b[0;34m[\u001b[0m\u001b[0mj\u001b[0m \u001b[0;34m+\u001b[0m \u001b[0;36m1\u001b[0m\u001b[0;34m]\u001b[0m \u001b[0;34m=\u001b[0m \u001b[0mnums\u001b[0m\u001b[0;34m[\u001b[0m\u001b[0mj\u001b[0m \u001b[0;34m+\u001b[0m \u001b[0;36m1\u001b[0m\u001b[0;34m]\u001b[0m\u001b[0;34m,\u001b[0m \u001b[0mnums\u001b[0m\u001b[0;34m[\u001b[0m\u001b[0mj\u001b[0m\u001b[0;34m]\u001b[0m\u001b[0;34m\u001b[0m\u001b[0;34m\u001b[0m\u001b[0m\n\u001b[1;32m      6\u001b[0m             \u001b[0mroboduck\u001b[0m\u001b[0;34m(\u001b[0m\u001b[0;34m)\u001b[0m\u001b[0;34m\u001b[0m\u001b[0;34m\u001b[0m\u001b[0m\n",
      "\u001b[0;32m<ipython-input-16-95174b1d61b8>\u001b[0m in \u001b[0;36mbubble_sort\u001b[0;34m(nums)\u001b[0m\n\u001b[1;32m      2\u001b[0m     \u001b[0;32mfor\u001b[0m \u001b[0mi\u001b[0m \u001b[0;32min\u001b[0m \u001b[0mrange\u001b[0m\u001b[0;34m(\u001b[0m\u001b[0mlen\u001b[0m\u001b[0;34m(\u001b[0m\u001b[0mnums\u001b[0m\u001b[0;34m)\u001b[0m\u001b[0;34m)\u001b[0m\u001b[0;34m:\u001b[0m\u001b[0;34m\u001b[0m\u001b[0;34m\u001b[0m\u001b[0m\n\u001b[1;32m      3\u001b[0m         \u001b[0;32mfor\u001b[0m \u001b[0mj\u001b[0m \u001b[0;32min\u001b[0m \u001b[0mrange\u001b[0m\u001b[0;34m(\u001b[0m\u001b[0mlen\u001b[0m\u001b[0;34m(\u001b[0m\u001b[0mnums\u001b[0m\u001b[0;34m)\u001b[0m\u001b[0;34m)\u001b[0m\u001b[0;34m:\u001b[0m\u001b[0;34m\u001b[0m\u001b[0;34m\u001b[0m\u001b[0m\n\u001b[0;32m----> 4\u001b[0;31m             \u001b[0;32mif\u001b[0m \u001b[0mnums\u001b[0m\u001b[0;34m[\u001b[0m\u001b[0mj\u001b[0m\u001b[0;34m]\u001b[0m \u001b[0;34m>\u001b[0m \u001b[0mnums\u001b[0m\u001b[0;34m[\u001b[0m\u001b[0mj\u001b[0m \u001b[0;34m+\u001b[0m \u001b[0;36m1\u001b[0m\u001b[0;34m]\u001b[0m\u001b[0;34m:\u001b[0m\u001b[0;34m\u001b[0m\u001b[0;34m\u001b[0m\u001b[0m\n\u001b[0m\u001b[1;32m      5\u001b[0m                 \u001b[0mnums\u001b[0m\u001b[0;34m[\u001b[0m\u001b[0mj\u001b[0m\u001b[0;34m]\u001b[0m\u001b[0;34m,\u001b[0m \u001b[0mnums\u001b[0m\u001b[0;34m[\u001b[0m\u001b[0mj\u001b[0m \u001b[0;34m+\u001b[0m \u001b[0;36m1\u001b[0m\u001b[0;34m]\u001b[0m \u001b[0;34m=\u001b[0m \u001b[0mnums\u001b[0m\u001b[0;34m[\u001b[0m\u001b[0mj\u001b[0m \u001b[0;34m+\u001b[0m \u001b[0;36m1\u001b[0m\u001b[0;34m]\u001b[0m\u001b[0;34m,\u001b[0m \u001b[0mnums\u001b[0m\u001b[0;34m[\u001b[0m\u001b[0mj\u001b[0m\u001b[0;34m]\u001b[0m\u001b[0;34m\u001b[0m\u001b[0;34m\u001b[0m\u001b[0m\n\u001b[1;32m      6\u001b[0m             \u001b[0mroboduck\u001b[0m\u001b[0;34m(\u001b[0m\u001b[0;34m)\u001b[0m\u001b[0;34m\u001b[0m\u001b[0;34m\u001b[0m\u001b[0m\n",
      "\u001b[0;32m~/anaconda3/lib/python3.7/bdb.py\u001b[0m in \u001b[0;36mtrace_dispatch\u001b[0;34m(self, frame, event, arg)\u001b[0m\n\u001b[1;32m     86\u001b[0m             \u001b[0;32mreturn\u001b[0m \u001b[0;31m# None\u001b[0m\u001b[0;34m\u001b[0m\u001b[0;34m\u001b[0m\u001b[0m\n\u001b[1;32m     87\u001b[0m         \u001b[0;32mif\u001b[0m \u001b[0mevent\u001b[0m \u001b[0;34m==\u001b[0m \u001b[0;34m'line'\u001b[0m\u001b[0;34m:\u001b[0m\u001b[0;34m\u001b[0m\u001b[0;34m\u001b[0m\u001b[0m\n\u001b[0;32m---> 88\u001b[0;31m             \u001b[0;32mreturn\u001b[0m \u001b[0mself\u001b[0m\u001b[0;34m.\u001b[0m\u001b[0mdispatch_line\u001b[0m\u001b[0;34m(\u001b[0m\u001b[0mframe\u001b[0m\u001b[0;34m)\u001b[0m\u001b[0;34m\u001b[0m\u001b[0;34m\u001b[0m\u001b[0m\n\u001b[0m\u001b[1;32m     89\u001b[0m         \u001b[0;32mif\u001b[0m \u001b[0mevent\u001b[0m \u001b[0;34m==\u001b[0m \u001b[0;34m'call'\u001b[0m\u001b[0;34m:\u001b[0m\u001b[0;34m\u001b[0m\u001b[0;34m\u001b[0m\u001b[0m\n\u001b[1;32m     90\u001b[0m             \u001b[0;32mreturn\u001b[0m \u001b[0mself\u001b[0m\u001b[0;34m.\u001b[0m\u001b[0mdispatch_call\u001b[0m\u001b[0;34m(\u001b[0m\u001b[0mframe\u001b[0m\u001b[0;34m,\u001b[0m \u001b[0marg\u001b[0m\u001b[0;34m)\u001b[0m\u001b[0;34m\u001b[0m\u001b[0;34m\u001b[0m\u001b[0m\n",
      "\u001b[0;32m~/anaconda3/lib/python3.7/bdb.py\u001b[0m in \u001b[0;36mdispatch_line\u001b[0;34m(self, frame)\u001b[0m\n\u001b[1;32m    111\u001b[0m         \u001b[0;32mif\u001b[0m \u001b[0mself\u001b[0m\u001b[0;34m.\u001b[0m\u001b[0mstop_here\u001b[0m\u001b[0;34m(\u001b[0m\u001b[0mframe\u001b[0m\u001b[0;34m)\u001b[0m \u001b[0;32mor\u001b[0m \u001b[0mself\u001b[0m\u001b[0;34m.\u001b[0m\u001b[0mbreak_here\u001b[0m\u001b[0;34m(\u001b[0m\u001b[0mframe\u001b[0m\u001b[0;34m)\u001b[0m\u001b[0;34m:\u001b[0m\u001b[0;34m\u001b[0m\u001b[0;34m\u001b[0m\u001b[0m\n\u001b[1;32m    112\u001b[0m             \u001b[0mself\u001b[0m\u001b[0;34m.\u001b[0m\u001b[0muser_line\u001b[0m\u001b[0;34m(\u001b[0m\u001b[0mframe\u001b[0m\u001b[0;34m)\u001b[0m\u001b[0;34m\u001b[0m\u001b[0;34m\u001b[0m\u001b[0m\n\u001b[0;32m--> 113\u001b[0;31m             \u001b[0;32mif\u001b[0m \u001b[0mself\u001b[0m\u001b[0;34m.\u001b[0m\u001b[0mquitting\u001b[0m\u001b[0;34m:\u001b[0m \u001b[0;32mraise\u001b[0m \u001b[0mBdbQuit\u001b[0m\u001b[0;34m\u001b[0m\u001b[0;34m\u001b[0m\u001b[0m\n\u001b[0m\u001b[1;32m    114\u001b[0m         \u001b[0;32mreturn\u001b[0m \u001b[0mself\u001b[0m\u001b[0;34m.\u001b[0m\u001b[0mtrace_dispatch\u001b[0m\u001b[0;34m\u001b[0m\u001b[0;34m\u001b[0m\u001b[0m\n\u001b[1;32m    115\u001b[0m \u001b[0;34m\u001b[0m\u001b[0m\n",
      "\u001b[0;31mBdbQuit\u001b[0m: "
     ]
    }
   ],
   "source": [
    "bubble_sort(nums)"
   ]
  },
  {
   "cell_type": "markdown",
   "metadata": {},
   "source": [
    "Debugger works too. Weird that ipython has a problem with setting debugger cls - I can see how we might encounter a problem with my current method of reading the source code, but didn't expect the error we got. Will have to investigate further."
   ]
  },
  {
   "cell_type": "markdown",
   "metadata": {},
   "source": [
    "### Try htools (non LLM) auto debug mode\n",
    "\n",
    "First, confirm it's not enabled with * import."
   ]
  },
  {
   "cell_type": "code",
   "execution_count": 1,
   "metadata": {
    "ExecuteTime": {
     "end_time": "2023-02-20T21:07:06.891690Z",
     "start_time": "2023-02-20T21:07:06.872142Z"
    }
   },
   "outputs": [
    {
     "name": "stdout",
     "output_type": "stream",
     "text": [
      "The autoreload extension is already loaded. To reload it, use:\n",
      "  %reload_ext autoreload\n"
     ]
    }
   ],
   "source": [
    "%load_ext autoreload\n",
    "%autoreload 2"
   ]
  },
  {
   "cell_type": "code",
   "execution_count": 2,
   "metadata": {
    "ExecuteTime": {
     "end_time": "2023-02-20T21:07:08.179579Z",
     "start_time": "2023-02-20T21:07:07.207513Z"
    }
   },
   "outputs": [],
   "source": [
    "import sys\n",
    "from htools import *"
   ]
  },
  {
   "cell_type": "code",
   "execution_count": 3,
   "metadata": {
    "ExecuteTime": {
     "end_time": "2023-02-20T21:07:08.439914Z",
     "start_time": "2023-02-20T21:07:08.183003Z"
    }
   },
   "outputs": [
    {
     "ename": "TypeError",
     "evalue": "unsupported operand type(s) for +: 'int' and 'str'",
     "output_type": "error",
     "traceback": [
      "\u001b[0;31m---------------------------------------------------------------------------\u001b[0m",
      "\u001b[0;31mTypeError\u001b[0m                                 Traceback (most recent call last)",
      "\u001b[0;32m<ipython-input-3-c7b3b3af8179>\u001b[0m in \u001b[0;36m<module>\u001b[0;34m\u001b[0m\n\u001b[1;32m      1\u001b[0m \u001b[0my\u001b[0m \u001b[0;34m=\u001b[0m \u001b[0;36m3\u001b[0m\u001b[0;34m\u001b[0m\u001b[0;34m\u001b[0m\u001b[0m\n\u001b[1;32m      2\u001b[0m \u001b[0mz\u001b[0m \u001b[0;34m=\u001b[0m \u001b[0;34m'z'\u001b[0m\u001b[0;34m\u001b[0m\u001b[0;34m\u001b[0m\u001b[0m\n\u001b[0;32m----> 3\u001b[0;31m \u001b[0my\u001b[0m \u001b[0;34m+\u001b[0m \u001b[0mz\u001b[0m\u001b[0;34m\u001b[0m\u001b[0;34m\u001b[0m\u001b[0m\n\u001b[0m",
      "\u001b[0;31mTypeError\u001b[0m: unsupported operand type(s) for +: 'int' and 'str'"
     ]
    }
   ],
   "source": [
    "y = 3\n",
    "z = 'z'\n",
    "y + z"
   ]
  },
  {
   "cell_type": "code",
   "execution_count": 5,
   "metadata": {
    "ExecuteTime": {
     "end_time": "2023-02-20T21:07:12.619664Z",
     "start_time": "2023-02-20T21:07:12.577641Z"
    }
   },
   "outputs": [
    {
     "data": {
      "text/plain": [
       "(Exception,)"
      ]
     },
     "execution_count": 5,
     "metadata": {},
     "output_type": "execute_result"
    }
   ],
   "source": [
    "get_ipython().custom_exceptions"
   ]
  },
  {
   "cell_type": "code",
   "execution_count": 6,
   "metadata": {
    "ExecuteTime": {
     "end_time": "2023-02-20T21:07:13.536013Z",
     "start_time": "2023-02-20T21:07:13.510676Z"
    }
   },
   "outputs": [],
   "source": [
    "from htools import autodebug"
   ]
  },
  {
   "cell_type": "code",
   "execution_count": 7,
   "metadata": {
    "ExecuteTime": {
     "end_time": "2023-02-20T21:07:16.109586Z",
     "start_time": "2023-02-20T21:07:14.454340Z"
    }
   },
   "outputs": [
    {
     "name": "stderr",
     "output_type": "stream",
     "text": [
      "Traceback (most recent call last):\n",
      "  File \"/Users/hmamin/anaconda3/lib/python3.7/site-packages/IPython/core/interactiveshell.py\", line 3441, in run_code\n",
      "    exec(code_obj, self.user_global_ns, self.user_ns)\n",
      "  File \"<ipython-input-7-c7b3b3af8179>\", line 3, in <module>\n",
      "    y + z\n",
      "TypeError: unsupported operand type(s) for +: 'int' and 'str'\n"
     ]
    },
    {
     "name": "stdout",
     "output_type": "stream",
     "text": [
      "[0] > \u001b[33;01m<ipython-input-7-c7b3b3af8179>\u001b[00m(\u001b[36;01m3\u001b[00m)<module>()\n",
      "-> y + z\n",
      "   1 frame hidden (try 'help hidden_frames')\n",
      "(Pdb++) q\n"
     ]
    }
   ],
   "source": [
    "y = 3\n",
    "z = 'z'\n",
    "y + z"
   ]
  },
  {
   "cell_type": "code",
   "execution_count": 8,
   "metadata": {
    "ExecuteTime": {
     "end_time": "2023-02-20T21:07:16.769796Z",
     "start_time": "2023-02-20T21:07:16.740206Z"
    }
   },
   "outputs": [
    {
     "data": {
      "text/plain": [
       "(Exception,)"
      ]
     },
     "execution_count": 8,
     "metadata": {},
     "output_type": "execute_result"
    }
   ],
   "source": [
    "get_ipython().custom_exceptions"
   ]
  },
  {
   "cell_type": "code",
   "execution_count": 9,
   "metadata": {
    "ExecuteTime": {
     "end_time": "2023-02-20T21:07:18.771080Z",
     "start_time": "2023-02-20T21:07:18.740497Z"
    }
   },
   "outputs": [],
   "source": [
    "autodebug.disable()"
   ]
  },
  {
   "cell_type": "code",
   "execution_count": 10,
   "metadata": {
    "ExecuteTime": {
     "end_time": "2023-02-20T21:07:19.369120Z",
     "start_time": "2023-02-20T21:07:19.338700Z"
    }
   },
   "outputs": [
    {
     "data": {
      "text/plain": [
       "()"
      ]
     },
     "execution_count": 10,
     "metadata": {},
     "output_type": "execute_result"
    }
   ],
   "source": [
    "get_ipython().custom_exceptions"
   ]
  },
  {
   "cell_type": "code",
   "execution_count": 11,
   "metadata": {
    "ExecuteTime": {
     "end_time": "2023-02-20T21:07:20.276582Z",
     "start_time": "2023-02-20T21:07:20.245043Z"
    }
   },
   "outputs": [
    {
     "ename": "TypeError",
     "evalue": "unsupported operand type(s) for +: 'int' and 'str'",
     "output_type": "error",
     "traceback": [
      "\u001b[0;31m---------------------------------------------------------------------------\u001b[0m",
      "\u001b[0;31mTypeError\u001b[0m                                 Traceback (most recent call last)",
      "\u001b[0;32m<ipython-input-11-ff96b8185f8d>\u001b[0m in \u001b[0;36m<module>\u001b[0;34m\u001b[0m\n\u001b[0;32m----> 1\u001b[0;31m \u001b[0my\u001b[0m \u001b[0;34m+\u001b[0m \u001b[0mz\u001b[0m\u001b[0;34m\u001b[0m\u001b[0;34m\u001b[0m\u001b[0m\n\u001b[0m",
      "\u001b[0;31mTypeError\u001b[0m: unsupported operand type(s) for +: 'int' and 'str'"
     ]
    }
   ],
   "source": [
    "y + z"
   ]
  },
  {
   "cell_type": "markdown",
   "metadata": {},
   "source": [
    "## excepthook approach to talky errors"
   ]
  },
  {
   "cell_type": "code",
   "execution_count": 17,
   "metadata": {
    "ExecuteTime": {
     "end_time": "2023-02-24T03:24:18.176557Z",
     "start_time": "2023-02-24T03:24:18.138602Z"
    }
   },
   "outputs": [
    {
     "name": "stderr",
     "output_type": "stream",
     "text": [
      "/Users/hmamin/pythonhm/htools/htools/meta.py:455: UserWarning: Registering function <function excepthook at 0x7f9d737d67b8> as attribute \"excepthook\" on object <module 'sys' (built-in)>.\n",
      "  warnings.warn(f'Registering function {func} as attribute \"{attr}\" on '\n"
     ]
    }
   ],
   "source": [
    "@monkeypatch(sys, 'excepthook')\n",
    "def excepthook(type_, val, tb):\n",
    "    \"\"\"Replaces sys.excepthook when module is imported, which makes us enter\n",
    "    a debugging session whenever an error is thrown. Disable by calling\n",
    "    autodebug.disable().\n",
    "    \"\"\"\n",
    "    traceback.print_exception(type_, val, tb)\n",
    "    while True:\n",
    "        cmd = input('Explain error message? [y/n]').lower()\n",
    "        if cmd == 'y':\n",
    "            return 'YES'\n",
    "        if cmd == 'n':\n",
    "            return 'NO'\n",
    "        print('Unrecognized command. Choose [y/n].')"
   ]
  },
  {
   "cell_type": "code",
   "execution_count": 18,
   "metadata": {
    "ExecuteTime": {
     "end_time": "2023-02-24T03:24:23.814698Z",
     "start_time": "2023-02-24T03:24:23.596597Z"
    }
   },
   "outputs": [
    {
     "ename": "TypeError",
     "evalue": "unsupported operand type(s) for +: 'int' and 'str'",
     "output_type": "error",
     "traceback": [
      "\u001b[0;31m---------------------------------------------------------------------------\u001b[0m",
      "\u001b[0;31mTypeError\u001b[0m                                 Traceback (most recent call last)",
      "\u001b[0;32m<ipython-input-18-cbcc99187a9b>\u001b[0m in \u001b[0;36m<module>\u001b[0;34m\u001b[0m\n\u001b[0;32m----> 1\u001b[0;31m \u001b[0;36m3\u001b[0m \u001b[0;34m+\u001b[0m \u001b[0;34m'a'\u001b[0m\u001b[0;34m\u001b[0m\u001b[0;34m\u001b[0m\u001b[0m\n\u001b[0m",
      "\u001b[0;31mTypeError\u001b[0m: unsupported operand type(s) for +: 'int' and 'str'"
     ]
    }
   ],
   "source": [
    "3 + 'a'"
   ]
  }
 ],
 "metadata": {
  "kernelspec": {
   "display_name": "Python 3",
   "language": "python",
   "name": "python3"
  },
  "language_info": {
   "codemirror_mode": {
    "name": "ipython",
    "version": 3
   },
   "file_extension": ".py",
   "mimetype": "text/x-python",
   "name": "python",
   "nbconvert_exporter": "python",
   "pygments_lexer": "ipython3",
   "version": "3.7.3"
  }
 },
 "nbformat": 4,
 "nbformat_minor": 2
}
